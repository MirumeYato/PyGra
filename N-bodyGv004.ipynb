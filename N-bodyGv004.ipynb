{
 "cells": [
  {
   "cell_type": "code",
   "execution_count": 25,
   "metadata": {},
   "outputs": [
    {
     "name": "stderr",
     "output_type": "stream",
     "text": [
      "/tmp/ipykernel_23034/779088799.py:15: MatplotlibDeprecationWarning: The seaborn styles shipped by Matplotlib are deprecated since 3.6, as they no longer correspond to the styles shipped by seaborn. However, they will remain available as 'seaborn-v0_8-<style>'. Alternatively, directly use the seaborn API instead.\n",
      "  plt.style.use('seaborn-pastel')\n"
     ]
    }
   ],
   "source": [
    "import numpy as np\n",
    "#from scipy.stats import norm\n",
    "#import numexpr as ne\n",
    "\n",
    "from tqdm import trange\n",
    "from tqdm import tqdm\n",
    "from time import sleep\n",
    "#from tqdm.notebook import tqdm_notebook\n",
    "#from rich.progress import Progress\n",
    "#from rich.progress import track\n",
    "from IPython.display import Image\n",
    "\n",
    "from matplotlib import pyplot as plt\n",
    "from matplotlib.animation import FuncAnimation\n",
    "plt.style.use('seaborn-pastel')"
   ]
  },
  {
   "cell_type": "code",
   "execution_count": 33,
   "metadata": {},
   "outputs": [
    {
     "data": {
      "text/plain": [
       "array([ 3, 14])"
      ]
     },
     "execution_count": 33,
     "metadata": {},
     "output_type": "execute_result"
    }
   ],
   "source": [
    "np.sum((np.array([[1,1,1],[1,2,3]]))**2,axis=1)"
   ]
  },
  {
   "cell_type": "code",
   "execution_count": null,
   "metadata": {},
   "outputs": [],
   "source": [
    "\"\"\"\n",
    "    def __iter__(self):\n",
    "        return self\n",
    "\n",
    "    def __next__(self):\n",
    "        if self.index == 0:\n",
    "            raise StopIteration\n",
    "        self.index = self.index - 1\n",
    "        return self.data[self.index]\n",
    "\"\"\""
   ]
  },
  {
   "cell_type": "code",
   "execution_count": 24,
   "metadata": {},
   "outputs": [],
   "source": [
    "\n",
    "def getEnergy( pos, mass, G ):\n",
    "\t\"\"\"\n",
    "\tGet kinetic energy (KE) and potential energy (PE) of simulation\n",
    "\tpos is N x 3 matrix of positions\n",
    "\tvel is N x 3 matrix of velocities\n",
    "\tmass is an N x 1 vector of masses\n",
    "\tG is Newton's Gravitational constant\n",
    "\tKE is the kinetic energy of the system\n",
    "\tPE is the potential energy of the system\n",
    "\t\"\"\"\n",
    "\t# Potential Energy:\n",
    "\n",
    "\t# positions r = [x,y,z] for all particles\n",
    "\tx = pos[:,0:1]\n",
    "\ty = pos[:,1:2]\n",
    "\tz = pos[:,2:3]\n",
    "\n",
    "\t# matrix that stores all pairwise particle separations: r_j - r_i\n",
    "\tdx = x.T - x\n",
    "\tdy = y.T - y\n",
    "\tdz = z.T - z\n",
    "\n",
    "\t# matrix that stores 1/r for all particle pairwise particle separations \n",
    "\tinv_r = np.sqrt(dx**2 + dy**2 + dz**2)\n",
    "\tinv_r[inv_r>0] = 1.0/inv_r[inv_r>0]\n",
    "\n",
    "\t# sum over upper triangle, to count each interaction only once\n",
    "\tPE = G * np.sum(np.sum(np.triu(-(mass*mass.T)*inv_r,1)))\n",
    "\t\n",
    "\treturn PE;\n",
    "\n",
    "\n",
    "class  g_sys(g_obj):\n",
    "    # Newton's Gravitational Constant # km⋅M⊙−1⋅(km/s)**2\n",
    "    G = 3.086*10**13/233 # approx 4.3009172706*3.086*10**10\n",
    "\n",
    "    def __init__(self,dt,softening):\n",
    "        self.dt=dt \n",
    "        self.softening=softening\n",
    "    pass\n",
    "\n",
    "class g_obj:\n",
    "    softening=10**(-6) # pc\n",
    "    def __init__(self,n,type):\n",
    "        self.pos=np.zeros(n,3)\n",
    "        self.vel=np.zeros(n,3)\n",
    "        self.mass=np.zeros(n,1)\n",
    "        self.type=type\n",
    "\n",
    "    def set_ic(self,pos_custom,vel_custom,mass_custom):\n",
    "        self.pos=pos_custom\n",
    "        self.vel=vel_custom\n",
    "        self.vel=mass_custom\n",
    "\n",
    "    def set_cl_ic(self,n,pos_0, R=1., p=np.random.uniform(0,1,(0,3)), soft=softening):\n",
    "        ip=np.append(p,np.random.uniform(soft,R,(n-len(p),3))*2-R,axis=0)\n",
    "        fp=np.delete(ip,np.where(np.sum(ip**2,axis=1)>R**2), axis = 0)\n",
    "        if not len(fp)-n==0:\n",
    "            return self.set_cl_ic(n, pos_0, R, fp)\n",
    "        else: \n",
    "            return fp+pos_0\n"
   ]
  },
  {
   "cell_type": "code",
   "execution_count": null,
   "metadata": {},
   "outputs": [],
   "source": []
  },
  {
   "cell_type": "code",
   "execution_count": 23,
   "metadata": {},
   "outputs": [
    {
     "name": "stderr",
     "output_type": "stream",
     "text": [
      "/tmp/ipykernel_23034/75501526.py:15: DeprecationWarning: `np.int` is a deprecated alias for the builtin `int`. To silence this warning, use `int` by itself. Doing this will not modify any behavior and is safe. When replacing `np.int`, you may wish to use e.g. `np.int64` or `np.int32` to specify the precision. If you wish to review your current use, check the release note link for additional information.\n",
      "Deprecated in NumPy 1.20; for more details and guidance: https://numpy.org/devdocs/release/1.20.0-notes.html#deprecations\n",
      "  N_waves = np.int(19)\n",
      "/tmp/ipykernel_23034/75501526.py:17: DeprecationWarning: `np.int` is a deprecated alias for the builtin `int`. To silence this warning, use `int` by itself. Doing this will not modify any behavior and is safe. When replacing `np.int`, you may wish to use e.g. `np.int64` or `np.int32` to specify the precision. If you wish to review your current use, check the release note link for additional information.\n",
      "Deprecated in NumPy 1.20; for more details and guidance: https://numpy.org/devdocs/release/1.20.0-notes.html#deprecations\n",
      "  m = np.int(20) #Azimuthal Wave Number\n",
      "/tmp/ipykernel_23034/75501526.py:22: DeprecationWarning: `np.int` is a deprecated alias for the builtin `int`. To silence this warning, use `int` by itself. Doing this will not modify any behavior and is safe. When replacing `np.int`, you may wish to use e.g. `np.int64` or `np.int32` to specify the precision. If you wish to review your current use, check the release note link for additional information.\n",
      "Deprecated in NumPy 1.20; for more details and guidance: https://numpy.org/devdocs/release/1.20.0-notes.html#deprecations\n",
      "  N_Particles = np.int(10000)\n",
      "OMP: Info #276: omp_set_nested routine deprecated, please use omp_set_max_active_levels instead.\n",
      "/opt/conda/lib/python3.10/site-packages/numba/core/typed_passes.py:329: NumbaPerformanceWarning: \u001b[1m\n",
      "The keyword argument 'parallel=True' was specified but no transformation for parallel execution was possible.\n",
      "\n",
      "To find out why, try turning on parallel diagnostics, see https://numba.readthedocs.io/en/stable/user/parallel.html#diagnostics for help.\n",
      "\u001b[1m\n",
      "File \"../../tmp/ipykernel_23034/75501526.py\", line 73:\u001b[0m\n",
      "\u001b[1m<source missing, REPL/exec in use?>\u001b[0m\n",
      "\u001b[0m\n",
      "  warnings.warn(errors.NumbaPerformanceWarning(msg,\n"
     ]
    },
    {
     "name": "stdout",
     "output_type": "stream",
     "text": [
      "Solo Time: 0.02686786651611328\n"
     ]
    },
    {
     "data": {
      "image/png": "[encoded data removed]",
      "text/plain": [
       "<Figure size 640x480 with 1 Axes>"
      ]
     },
     "metadata": {},
     "output_type": "display_data"
    }
   ],
   "source": [
    "\n",
    "import numpy as np\n",
    "import matplotlib.pyplot as plt\n",
    "from numba import njit, prange\n",
    "from time import time\n",
    "from tqdm import tqdm\n",
    "import multiprocessing as mp\n",
    "from scipy import interpolate\n",
    "\n",
    "from numbalsoda import lsoda_sig, lsoda\n",
    "from numba import cfunc\n",
    "import numba as nb\n",
    "\n",
    "\"Electric Field Information\"\n",
    "A = np.float32(1.00E-04)\n",
    "N_waves = np.int(19)\n",
    "frequency =  np.linspace(37.5,46.5,N_waves)*1e-3 #Set of frequencies used for Electric Field \n",
    "m = np.int(20) #Azimuthal Wave Number\n",
    "sigma = np.float32(0.5) #Gaussian Width of E wave in L\n",
    "zeta = np.float32(1)\n",
    "\n",
    "\"Particle Information\"\n",
    "N_Particles = np.int(10000)\n",
    "q = np.float32(-1) #Charge of electron\n",
    "mass = np.float32(0.511e6) #Mass of Proton eV/c^2\n",
    "FirstAdiabatic = np.float32(2000e10) #MeV/Gauss Adiabatic Invariant\n",
    "\n",
    "\"Runge-Kutta Paramters\"\n",
    "Total_Time = np.float32(10) #hours\n",
    "Step_Size = np.float32(0.2) #second \n",
    "Plot_Time = np.float32(60) #seconds\n",
    "time_array = np.arange(0, Total_Time*3600+Step_Size, Step_Size) #Convert to seconds and Add End Point\n",
    "N_points = len(time_array)\n",
    "\n",
    "Skip_How_Many = int(Plot_Time/Step_Size) #Used to shorten our data set and save RAM\n",
    "\n",
    "\"Constants\"    \n",
    "Beq = np.float64(31221.60592e-9) #nT\n",
    "Re = np.float32(6371e3) #Meters\n",
    "c = np.float32(2.998e8) #m/s\n",
    "\n",
    "\"Start Electric Field Code\"\n",
    "def wave_peak(omega): #Called once so no need to JIT or Optimize this\n",
    "    L_sample = np.linspace(1,10,100) \n",
    "    phidot = -3*FirstAdiabatic / (q* (L_sample*Re)**2 * np.sqrt(1+ (2*FirstAdiabatic*Beq/ (mass*L_sample**3)) ) )\n",
    "    phidot_to_L = interpolate.interp1d(phidot,L_sample, kind = 'cubic')\n",
    "    L0i = phidot_to_L(omega/m)\n",
    "    return L0i \n",
    "omega = 2*np.pi*frequency\n",
    "L0i_wave = wave_peak(omega)\n",
    "Phi0i_wave = np.linspace(0,2*np.pi,N_waves)\n",
    "np.random.shuffle(Phi0i_wave)\n",
    "\n",
    "@njit(parallel=True)\n",
    "def Electric_Field(t,r):\n",
    "    E0 = A*np.exp(-(r[0]-L0i_wave)**2 / (2*sigma**2))\n",
    "    Delta = np.arctan2( (r[0] * (r[0]-L0i_wave)/sigma**2 - 1), (2*np.pi*r[0]/zeta) )\n",
    "    Er = E0/m * np.sqrt( (2*np.pi*r[0]/zeta)**2 + (r[0]*(r[0]-L0i_wave)/sigma**2 -1)**2 ) * np.cos(m*r[1] - omega*t + Phi0i_wave + 2*np.pi*r[0]/zeta + Delta)\n",
    "    Ephi = E0*np.cos(m*r[1] - omega*t + Phi0i_wave + 2*np.pi*r[0]/zeta)\n",
    "    return np.sum(Er),np.sum(Ephi)\n",
    "\"End of Electric Field Code\"\n",
    "\n",
    "\"Particle's ODE - Equation of Motion\"\n",
    "@cfunc(lsoda_sig)\n",
    "def ODE(t, r_, dr, p):\n",
    "    r = nb.carray(r_, (2,))\n",
    "    Er, Ephi = Electric_Field(t,r)\n",
    "    Ldot = Ephi * r[0]**3 / (Re*Beq)\n",
    "    Phidot = -Er * r[0]**2 / (Re*Beq) - 3* FirstAdiabatic / (q*r[0]**2*Re**2) * 1/np.sqrt(2*FirstAdiabatic*Beq/ (r[0]**3*mass) + 1)\n",
    "    dr[0] = Ldot\n",
    "    dr[1] = Phidot\n",
    "funcptr = ODE.address\n",
    "    \n",
    "@njit(parallel=True)\n",
    "def Motion(L0,Phi0):\n",
    "    u0 = np.array([L0,Phi0],np.float64)\n",
    "    data = np.array([5.0])\n",
    "    usol, success = lsoda(funcptr, u0, time_array, data)\n",
    "    L_Array = usol[:,0]\n",
    "    Phi_Array = usol[:,1]\n",
    "    return L_Array[::Skip_How_Many], Phi_Array[::Skip_How_Many]\n",
    "    #Skip_How_Many is used to take up less RAM space since we don't need that kind of percsion in our data\n",
    "\n",
    "Location = Motion(5,0)\n",
    "x = Location[0]*np.cos(Location[1])\n",
    "y = Location[0]*np.sin(Location[1])\n",
    "plt.plot(x,y,\"o\", markersize = 0.5)\n",
    "ts = time()\n",
    "Motion(5,0)\n",
    "print('Solo Time:', time() - ts)\n"
   ]
  },
  {
   "cell_type": "code",
   "execution_count": null,
   "metadata": {},
   "outputs": [],
   "source": []
  }
 ],
 "metadata": {
  "kernelspec": {
   "display_name": "base",
   "language": "python",
   "name": "python3"
  },
  "language_info": {
   "codemirror_mode": {
    "name": "ipython",
    "version": 3
   },
   "file_extension": ".py",
   "mimetype": "text/x-python",
   "name": "python",
   "nbconvert_exporter": "python",
   "pygments_lexer": "ipython3",
   "version": "3.10.8"
  },
  "orig_nbformat": 4,
  "vscode": {
   "interpreter": {
    "hash": "d4d1e4263499bec80672ea0156c357c1ee493ec2b1c70f0acce89fc37c4a6abe"
   }
  }
 },
 "nbformat": 4,
 "nbformat_minor": 2
}
